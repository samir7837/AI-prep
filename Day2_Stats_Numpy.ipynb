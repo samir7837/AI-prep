{
  "nbformat": 4,
  "nbformat_minor": 0,
  "metadata": {
    "colab": {
      "provenance": [],
      "authorship_tag": "ABX9TyOQTBbrjUkClXI640/Z3Qls",
      "include_colab_link": true
    },
    "kernelspec": {
      "name": "python3",
      "display_name": "Python 3"
    },
    "language_info": {
      "name": "python"
    }
  },
  "cells": [
    {
      "cell_type": "markdown",
      "metadata": {
        "id": "view-in-github",
        "colab_type": "text"
      },
      "source": [
        "<a href=\"https://colab.research.google.com/github/samir7837/AI-prep/blob/main/Day2_Stats_Numpy.ipynb\" target=\"_parent\"><img src=\"https://colab.research.google.com/assets/colab-badge.svg\" alt=\"Open In Colab\"/></a>"
      ]
    },
    {
      "cell_type": "code",
      "source": [
        "#Create and Print an Array\n",
        "\n",
        "import numpy as np\n",
        "\n",
        "def arr():\n",
        "  array = np.array([1, 2, 3, 4, 5, 6, 7, 8])\n",
        "  return array\n",
        "\n",
        "print(arr())"
      ],
      "metadata": {
        "id": "WSgbPzxgV1hw"
      },
      "execution_count": null,
      "outputs": []
    },
    {
      "cell_type": "code",
      "source": [
        "# Take an array of values from 1 to 12\n",
        "# Reshape it into a 3x4 matrix and print the result\n",
        "\n",
        "import numpy as np\n",
        "\n",
        "def arr_reshape():\n",
        "  array = np.arange(1,13).reshape(3,4)\n",
        "  return array\n",
        "\n",
        "print(arr_reshape())"
      ],
      "metadata": {
        "id": "to-rY2_XXhad"
      },
      "execution_count": null,
      "outputs": []
    },
    {
      "cell_type": "code",
      "source": [
        "# Given array = [10, 20, 30, 40, 50]\n",
        "# Print:\n",
        "# - First 3 elements\n",
        "# - Last 2 elements\n",
        "# - Every second element\n",
        "\n",
        "import numpy as np\n",
        "\n",
        "arr = np.array([10, 20, 30 , 40, 50])\n",
        "\n",
        "def first_three():\n",
        "  first_three = arr[0:3:]\n",
        "  return first_three\n",
        "def last_two():\n",
        "  last_two = arr[-2:]\n",
        "  return last_two\n",
        "def every_second():\n",
        "  every_second = arr[1::2]\n",
        "  return every_second\n",
        "\n",
        "print(first_three())\n",
        "print(last_two())\n",
        "print(every_second())"
      ],
      "metadata": {
        "id": "yF25EC1jY71_"
      },
      "execution_count": null,
      "outputs": []
    },
    {
      "cell_type": "code",
      "source": [
        "# Create arrays a = [2, 4, 6], b = [1, 3, 5]\n",
        "# Perform and print:\n",
        "# - a + b\n",
        "# - a - b\n",
        "# - a * b\n",
        "# - a / b\n",
        "\n",
        "import numpy as np\n",
        "\n",
        "a = np.array([2, 4, 6])\n",
        "b = np.array([1, 3, 5])\n",
        "\n",
        "def add():\n",
        "  return a + b\n",
        "\n",
        "def diff():\n",
        "  return a - b\n",
        "\n",
        "def mult():\n",
        "  return a * b\n",
        "\n",
        "def div():\n",
        "  return a / b\n",
        "\n",
        "print(add())\n",
        "print(diff())\n",
        "print(mult())\n",
        "print(div())"
      ],
      "metadata": {
        "id": "gqPdvqbPcTgX"
      },
      "execution_count": null,
      "outputs": []
    },
    {
      "cell_type": "code",
      "source": [
        "# Create a 3x3 matrix of random integers between 1 and 100\n",
        "# Print the matrix\n",
        "\n",
        "import numpy as np\n",
        "\n",
        "def random():\n",
        "  return np.random.randint(1,101,(3,3))\n",
        "\n",
        "print(random())"
      ],
      "metadata": {
        "id": "SEvupGrafUP2"
      },
      "execution_count": null,
      "outputs": []
    },
    {
      "cell_type": "code",
      "source": [
        "# Given: arr = [5, 10, 15, 20, 25]\n",
        "# Print:\n",
        "# - Mean\n",
        "# - Median\n",
        "# - Standard Deviation\n",
        "# - Variance\n",
        "\n",
        "import numpy as np\n",
        "\n",
        "arr = np.array([5, 10, 15, 20, 25])\n",
        "\n",
        "def mean():\n",
        "  return np.mean(arr)\n",
        "\n",
        "def median():\n",
        "  return np.median(arr)\n",
        "\n",
        "def standard_deviation():\n",
        "  return np.std(arr)\n",
        "\n",
        "def variance():\n",
        "  return np.var(arr)\n",
        "\n",
        "print(mean())\n",
        "print(median())\n",
        "print(standard_deviation())\n",
        "print(variance())"
      ],
      "metadata": {
        "id": "oK1dmcWmf2Cw"
      },
      "execution_count": null,
      "outputs": []
    },
    {
      "cell_type": "code",
      "source": [
        "# Given: arr = np.array([2, 7, 11, 14, 21])\n",
        "# Print all values greater than 10\n",
        "\n",
        "import numpy as np\n",
        "\n",
        "arr = np.array([2, 7, 11, 14, 21])\n",
        "\n",
        "def greater():\n",
        "  return arr[arr>10]\n",
        "\n",
        "print(greater())"
      ],
      "metadata": {
        "colab": {
          "base_uri": "https://localhost:8080/"
        },
        "id": "na8CAVjLiwuU",
        "outputId": "23c5495c-7f82-4ccd-adf6-d989e3e81044"
      },
      "execution_count": 29,
      "outputs": [
        {
          "output_type": "stream",
          "name": "stdout",
          "text": [
            "[11 14 21]\n"
          ]
        }
      ]
    },
    {
      "cell_type": "code",
      "source": [
        "# Create a 3x3 matrix and flatten it into a 1D array\n",
        "\n",
        "import numpy as np\n",
        "\n",
        "arr = np.arange(1,10).reshape(3,3)\n",
        "\n",
        "def flat():\n",
        "  return arr.flatten()\n",
        "\n",
        "print(\"original array: \", arr)\n",
        "print(\"flattened array: \", flat())"
      ],
      "metadata": {
        "id": "o-BRRks_jsd1"
      },
      "execution_count": null,
      "outputs": []
    },
    {
      "cell_type": "code",
      "source": [
        "# Create two matrices:\n",
        "# A = [[1, 2], [3, 4]], B = [[5, 6], [7, 8]]\n",
        "# Multiply A and B using np.dot() and print the result\n",
        "\n",
        "import numpy as np\n",
        "\n",
        "a = np.array([[1, 2], [3, 4]])\n",
        "b = np.array([[5, 6], [7, 8]])\n",
        "\n",
        "def dot():\n",
        "  return np.dot(a, b)\n",
        "\n",
        "print(dot())"
      ],
      "metadata": {
        "id": "iCYE-uu0lGAG"
      },
      "execution_count": null,
      "outputs": []
    }
  ]
}