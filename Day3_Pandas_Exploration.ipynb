{
  "nbformat": 4,
  "nbformat_minor": 0,
  "metadata": {
    "colab": {
      "provenance": [],
      "authorship_tag": "ABX9TyP78wYWS7s7hoPGYL4A9dLp",
      "include_colab_link": true
    },
    "kernelspec": {
      "name": "python3",
      "display_name": "Python 3"
    },
    "language_info": {
      "name": "python"
    }
  },
  "cells": [
    {
      "cell_type": "markdown",
      "metadata": {
        "id": "view-in-github",
        "colab_type": "text"
      },
      "source": [
        "<a href=\"https://colab.research.google.com/github/samir7837/AI-prep/blob/main/Day3_Pandas_Exploration.ipynb\" target=\"_parent\"><img src=\"https://colab.research.google.com/assets/colab-badge.svg\" alt=\"Open In Colab\"/></a>"
      ]
    },
    {
      "cell_type": "code",
      "execution_count": null,
      "metadata": {
        "id": "4L4bHjoMDki4"
      },
      "outputs": [],
      "source": [
        "#Load and Inspect\n",
        "#Load the Titanic dataset and list:\n",
        "#Number of rows and columns\n",
        "#Column names\n",
        "#First 5 entries\n",
        "\n",
        "import pandas as pd\n",
        "url = \"https://raw.githubusercontent.com/mwaskom/seaborn-data/master/titanic.csv\"\n",
        "df = pd.read_csv(url)\n",
        "\n",
        "def shape():\n",
        "  return df.shape\n",
        "\n",
        "def column():\n",
        "  return df.columns\n",
        "\n",
        "def first_five():\n",
        "  return df.head()\n",
        "\n",
        "print(\"rows and columns: \", shape())\n",
        "print(\"column names: \", column())\n",
        "print(\"first five entries: \", first_five())"
      ]
    },
    {
      "cell_type": "code",
      "source": [
        "#Column Selection\n",
        "#Select only the columns for age, sex, and fare from the dataset.\n",
        "\n",
        "import pandas as pd\n",
        "url = \"https://raw.githubusercontent.com/mwaskom/seaborn-data/master/titanic.csv\"\n",
        "df = pd.read_csv(url)\n",
        "\n",
        "def get_custom_columns():\n",
        "  return df[['age', 'sex', 'fare']]\n",
        "\n",
        "print(get_custom_columns())"
      ],
      "metadata": {
        "id": "ZecGSqQQF1oo"
      },
      "execution_count": null,
      "outputs": []
    },
    {
      "cell_type": "code",
      "source": [
        "#3. Conditional Filtering\n",
        "#Get all passengers who are:\n",
        "#Older than 60\n",
        "#Paid more than 50 in fare\n",
        "\n",
        "import pandas as pd\n",
        "url = \"https://raw.githubusercontent.com/mwaskom/seaborn-data/master/titanic.csv\"\n",
        "df = pd.read_csv(url)\n",
        "\n",
        "def condition_filter():\n",
        "  return df[(df['age']>60) & (df['fare']>50)]\n",
        "\n",
        "print(condition_filter())"
      ],
      "metadata": {
        "id": "w4rrPbR3IE6I"
      },
      "execution_count": null,
      "outputs": []
    },
    {
      "cell_type": "code",
      "source": [
        "#Handle Missing Values\n",
        "#Check for null values, and:\n",
        "#Fill missing values in age with the median\n",
        "#Drop rows where embarked is missing\n",
        "\n",
        "import pandas as pd\n",
        "url = \"https://raw.githubusercontent.com/mwaskom/seaborn-data/master/titanic.csv\"\n",
        "df = pd.read_csv(url)\n",
        "\n",
        "def null_replace():\n",
        "  print(\"Missing values before cleaning:\\n\", df.isnull().sum())\n",
        "  df['age'].fillna(df['age'].median(), inplace=True)\n",
        "  print(\"\\nFilled missing ages with median.\")\n",
        "\n",
        "def drop_rows():\n",
        "  df.dropna(subset=['embarked'], inplace=True)\n",
        "  print(\"Dropped rows where 'embarked' is missing.\")\n",
        "\n",
        "null_replace()\n",
        "drop_rows()\n",
        "print(\"\\nMissing values after cleaning:\\n\", df.isnull().sum())\n"
      ],
      "metadata": {
        "id": "xqMynJwWJ1S_"
      },
      "execution_count": null,
      "outputs": []
    },
    {
      "cell_type": "code",
      "source": [
        "#Rename and Map\n",
        "#Rename the sex column to gender, and:\n",
        "#Convert male → 0, female → 1 using mapping\n",
        "\n",
        "import pandas as pd\n",
        "url = \"https://raw.githubusercontent.com/mwaskom/seaborn-data/master/titanic.csv\"\n",
        "df = pd.read_csv(url)\n",
        "\n",
        "def rename_to_gender():\n",
        "  df.rename(columns={'sex': 'gender'}, inplace=True)\n",
        "  print(\"renaming done successfully\")\n",
        "\n",
        "def convert_boolean():\n",
        "  df['gender'] = df['gender'].map({'male': 0, 'female': 1})\n",
        "  print(\"mapping done successfuly\")\n",
        "\n",
        "rename_to_gender()\n",
        "convert_boolean()\n",
        "print(df.head())"
      ],
      "metadata": {
        "id": "jiEqPVYwM7VL"
      },
      "execution_count": null,
      "outputs": []
    },
    {
      "cell_type": "code",
      "source": [
        "#Create a New Column\n",
        "#Create a column called age_group:\n",
        "#If age < 18 → \"child\"\n",
        "#Else → \"adult\"\n",
        "\n",
        "import pandas as pd\n",
        "url = \"https://raw.githubusercontent.com/mwaskom/seaborn-data/master/titanic.csv\"\n",
        "df = pd.read_csv(url)\n",
        "\n",
        "def create_age_group():\n",
        "  df['age_group'] = df['age'].apply(lambda age: \"child\" if age < 18 else \"adult\")\n",
        "  print(\"column created successfully!\")\n",
        "\n",
        "create_age_group()\n",
        "print(df.head())"
      ],
      "metadata": {
        "id": "SyyP0BU7OljM"
      },
      "execution_count": null,
      "outputs": []
    },
    {
      "cell_type": "code",
      "source": [
        "#Group & Aggregate\n",
        "#Group the data by pclass and sex, and:\n",
        "#Find the average fare\n",
        "#Calculate survival rate per group\n",
        "\n",
        "import pandas as pd\n",
        "url = \"https://raw.githubusercontent.com/mwaskom/seaborn-data/master/titanic.csv\"\n",
        "df = pd.read_csv(url)\n",
        "\n",
        "def average_fare():\n",
        "  return df.groupby(['pclass', 'sex'])['fare'].mean()\n",
        "\n",
        "def survival_rate():\n",
        "  return df.groupby(['pclass', 'sex'])['survived'].mean()\n",
        "\n",
        "print(average_fare())\n",
        "print(survival_rate())"
      ],
      "metadata": {
        "id": "hGYDK8FGP7vb"
      },
      "execution_count": null,
      "outputs": []
    },
    {
      "cell_type": "code",
      "source": [
        "#Sort and Set Index\n",
        "#Sort passengers by fare in descending order, and:\n",
        "#Set the age column as the index of the dataframe\n",
        "\n",
        "import pandas as pd\n",
        "url = \"https://raw.githubusercontent.com/mwaskom/seaborn-data/master/titanic.csv\"\n",
        "df = pd.read_csv(url)\n",
        "\n",
        "def sorting_indexing():\n",
        "  df.sort_values(by='fare', ascending=False, inplace=True)\n",
        "  df.set_index(\"age\", inplace=True)\n",
        "\n",
        "sorting_indexing()\n",
        "print(df.head())"
      ],
      "metadata": {
        "id": "RjMXaEkUS_z6"
      },
      "execution_count": null,
      "outputs": []
    }
  ]
}