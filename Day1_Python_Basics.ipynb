{
  "nbformat": 4,
  "nbformat_minor": 0,
  "metadata": {
    "colab": {
      "provenance": [],
      "authorship_tag": "ABX9TyMMjaeHcTEIK/UWz3K6mGYA",
      "include_colab_link": true
    },
    "kernelspec": {
      "name": "python3",
      "display_name": "Python 3"
    },
    "language_info": {
      "name": "python"
    }
  },
  "cells": [
    {
      "cell_type": "markdown",
      "metadata": {
        "id": "view-in-github",
        "colab_type": "text"
      },
      "source": [
        "<a href=\"https://colab.research.google.com/github/samir7837/AI-prep/blob/main/Day1_Python_Basics.ipynb\" target=\"_parent\"><img src=\"https://colab.research.google.com/assets/colab-badge.svg\" alt=\"Open In Colab\"/></a>"
      ]
    },
    {
      "cell_type": "code",
      "source": [
        "#Write a function that takes a name as input and returns:\n",
        "\n",
        "name = input(\"what is your name?: \")\n",
        "\n",
        "def greet(name):\n",
        "    return f\"Hello, {name}! how are you today?\"\n",
        "\n",
        "print(greet(name))\n"
      ],
      "metadata": {
        "id": "A4pBm5o02d_f"
      },
      "execution_count": null,
      "outputs": []
    },
    {
      "cell_type": "code",
      "source": [
        "#Write a function that takes an integer and returns whether it's odd or even.\n",
        "\n",
        "\n",
        "num = int(input(\"enter your number: \"))\n",
        "\n",
        "def odd_even(num):\n",
        "    if num % 2:\n",
        "     print(\"your number is odd\")\n",
        "    else:\n",
        "     print(\"your number is even\")\n",
        "\n",
        "odd_even(num)"
      ],
      "metadata": {
        "id": "yY1Uw1514tgY"
      },
      "execution_count": null,
      "outputs": []
    },
    {
      "cell_type": "code",
      "source": [
        "#Create a function that takes 3 inputs:\n",
        "#number1, number2, and operation ('+', '-', '*', '/')\n",
        "#and returns the calculated result.\n",
        "\n",
        "number1 = int(input(\"enter your first number: \"))\n",
        "number2 = int(input(\"enter your second number: \"))\n",
        "op = input(\"enter your operator: \")\n",
        "\n",
        "def calc(number1, number2, op):\n",
        " match op:\n",
        "  case \"+\":\n",
        "    return number1 + number2\n",
        "  case \"-\":\n",
        "    return number1 - number2\n",
        "  case \"*\":\n",
        "    return number1 * number2\n",
        "  case \"/\":\n",
        "    return number1 / number2\n",
        "  case _:\n",
        "    return f\"invalid\"\n",
        "\n",
        "print(calc(number1, number2, op))"
      ],
      "metadata": {
        "id": "qEyg02hl6tNw"
      },
      "execution_count": null,
      "outputs": []
    },
    {
      "cell_type": "code",
      "source": [
        "#Write a function that takes a string and returns it reversed.\n",
        "\n",
        "user_string = input(\"enter your string: \")\n",
        "\n",
        "def str_rev(user_string):\n",
        "  return user_string[::-1]\n",
        "\n",
        "print(\"reversed string :\", str_rev(user_string))"
      ],
      "metadata": {
        "id": "EZ5Kaf19_N7k"
      },
      "execution_count": null,
      "outputs": []
    },
    {
      "cell_type": "code",
      "source": [
        "#Write a function that counts how many vowels are in a given string.\n",
        "\n",
        "\n",
        "user_string = input(\"enter your string: \")\n",
        "vowels = {\"a\", \"e\", \"i\", \"o\", \"u\"}\n",
        "\n",
        "def chk_vowels(user_string):\n",
        "  count = 0\n",
        "  for char in user_string.lower():\n",
        "   if char in vowels:\n",
        "    count +=1\n",
        "  return count\n",
        "\n",
        "print(\"total vowels are: \", chk_vowels(user_string))\n"
      ],
      "metadata": {
        "id": "GOvXiqb4B1ZA"
      },
      "execution_count": null,
      "outputs": []
    },
    {
      "cell_type": "markdown",
      "source": [],
      "metadata": {
        "id": "er2fNq1JElwd"
      }
    },
    {
      "cell_type": "code",
      "source": [
        "#Write a function that takes a password string and returns:\n",
        "\n",
        "password = input(\"enter your password: \")\n",
        "\n",
        "def chk_pwd(password):\n",
        "  if len(password) < 6:\n",
        "    return \"password too short!\"\n",
        "  elif password.isalpha():\n",
        "    return\"password too weak!\"\n",
        "  elif password.isdigit():\n",
        "    return\"password too weak!\"\n",
        "  else:\n",
        "    return\"password is strong!\"\n",
        "\n",
        "print(chk_pwd(password))"
      ],
      "metadata": {
        "id": "gOT7mbmYFP8k"
      },
      "execution_count": null,
      "outputs": []
    },
    {
      "cell_type": "code",
      "source": [
        "#Write a function that returns True if a string is a palindrome.\n",
        "user_string = input(\"enter your word: \")\n",
        "\n",
        "def str_rev(user_string):\n",
        "  reversed_string = user_string[::-1]\n",
        "  if user_string.lower() == reversed_string.lower():\n",
        "    return \"This is a palindrome\"\n",
        "  else:\n",
        "    return \"This is not a palindrome\"\n",
        "\n",
        "print(str_rev(user_string))"
      ],
      "metadata": {
        "id": "SVL1UfxQIjPs"
      },
      "execution_count": null,
      "outputs": []
    },
    {
      "cell_type": "code",
      "source": [
        "#Write a function that returns the first n Fibonacci numbers in a list\n",
        "n = int(input(\"enter the number: \"))\n",
        "\n",
        "def fibbonacci(n):\n",
        "  a = 0\n",
        "  b = 1\n",
        "  fib_series = []\n",
        "  for i in range(n):\n",
        "    fib_series.append(a)\n",
        "    a, b = b, a + b\n",
        "  return fib_series\n",
        "\n",
        "print(fibbonacci(n))\n",
        "\n",
        "\n",
        "\n"
      ],
      "metadata": {
        "id": "TvFp2ETKL8G2"
      },
      "execution_count": null,
      "outputs": []
    }
  ]
}